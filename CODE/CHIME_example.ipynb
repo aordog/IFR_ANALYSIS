{
 "cells": [
  {
   "cell_type": "markdown",
   "id": "702730da",
   "metadata": {},
   "source": [
    "# Code to read in already-generated ALBUS file for CHIME\n",
    "## A. Ordog, Nov 5, 2024"
   ]
  },
  {
   "cell_type": "code",
   "execution_count": null,
   "id": "3359dc87",
   "metadata": {},
   "outputs": [],
   "source": [
    "import numpy as np\n",
    "import IFR_subroutines as IFR\n",
    "import matplotlib.pyplot as plt\n",
    "from tabulate import tabulate"
   ]
  },
  {
   "cell_type": "markdown",
   "id": "7262d192",
   "metadata": {},
   "source": [
    "## Read in ALBUS output file"
   ]
  },
  {
   "cell_type": "code",
   "execution_count": null,
   "id": "da177202",
   "metadata": {},
   "outputs": [],
   "source": [
    "#########################################################\n",
    "file = '../DATA/albus_report_Allenby_CHIME_220121_3day_500km_5m'\n",
    "UTCdiff = 8. # Note: set this to 8 for PST and 7 for PDT\n",
    "#########################################################\n",
    "\n",
    "\n",
    "TEC, STEC, dSTEC, RM, t_hrs, el, az, reftime, tstart_isot = IFR.read_in_fitted_models_CHIME(file,UTCdiff)\n"
   ]
  },
  {
   "cell_type": "markdown",
   "id": "769f08b3",
   "metadata": {},
   "source": [
    "## Look at the data\n",
    "Note: These data are in 5-degree increments in elevation. When az=0 (approx) we are looking North; when az=180 or az=-180 we are looking South; az is reported as 137 when el=90 - I don't think this means anything, since at this point looking straight overhead (zenith angle = 0)."
   ]
  },
  {
   "cell_type": "code",
   "execution_count": null,
   "id": "c629cba3",
   "metadata": {},
   "outputs": [],
   "source": [
    "print('Start time: ',tstart_isot)\n",
    "print('')\n",
    "\n",
    "headers = ['hours since start', 'elevation (deg)', 'azimuth (deg)', 'TEC', 'STEC', 'RM (rad/m^2)']          \n",
    "table = zip(t_hrs, el, az, TEC, STEC, RM)\n",
    "\n",
    "print(tabulate(table, headers=headers, floatfmt=\".4f\"))"
   ]
  },
  {
   "cell_type": "markdown",
   "id": "d5f499ea",
   "metadata": {},
   "source": [
    "## Indices for North and South pointings"
   ]
  },
  {
   "cell_type": "code",
   "execution_count": null,
   "id": "d845b4b5",
   "metadata": {},
   "outputs": [],
   "source": [
    "# North:\n",
    "idxN = np.where(abs(az) < 90) # where azimuth is 0\n",
    "print(az[idxN])\n",
    "\n",
    "# South:\n",
    "idxS = np.where(abs(az) > 90) # where azimuth is 180\n",
    "print(az[idxS])"
   ]
  },
  {
   "cell_type": "markdown",
   "id": "4aba4d2c",
   "metadata": {},
   "source": [
    "## Plot the data in terms of elevation"
   ]
  },
  {
   "cell_type": "code",
   "execution_count": null,
   "id": "f1b0200b",
   "metadata": {},
   "outputs": [],
   "source": [
    "fig, ax = plt.subplots(2,1, figsize = (20,6))\n",
    "\n",
    "ax[0].scatter(t_hrs[idxN],el[idxN],s=50,c=RM[idxN],alpha=0.4,vmin=0,vmax=3)\n",
    "ax[1].scatter(t_hrs[idxS],el[idxS],s=50,c=RM[idxS],alpha=0.4,vmin=0,vmax=3)\n",
    "\n",
    "plt.suptitle('RM (rad/m^2)')\n",
    "\n",
    "for i in range(0,2):\n",
    "    ax[i].set_xlim(min(t_hrs), max(t_hrs))\n",
    "    ax[i].set_ylim(min(el),    max(el))\n",
    "    ax[i].set_ylabel('elevation')\n",
    "    ax[i].set_xlabel('hours since start')"
   ]
  },
  {
   "cell_type": "markdown",
   "id": "4d15b7b9",
   "metadata": {},
   "source": [
    "## Turn elevations into sine zenith angle"
   ]
  },
  {
   "cell_type": "code",
   "execution_count": null,
   "id": "1948c4af",
   "metadata": {},
   "outputs": [],
   "source": [
    "sine_za = np.sin((90. - el)*np.pi/180)\n",
    "sine_za[idxS] = -sine_za[idxS]\n",
    "\n",
    "plt.hist(sine_za,bins=11,range=(-1,1));"
   ]
  },
  {
   "cell_type": "markdown",
   "id": "bbc86eb1",
   "metadata": {},
   "source": [
    "## Plot the data in terms of sine zenith angle"
   ]
  },
  {
   "cell_type": "code",
   "execution_count": null,
   "id": "9c4e6ba4",
   "metadata": {},
   "outputs": [],
   "source": [
    "fig, ax = plt.subplots(1,1, figsize = (20,4))\n",
    "\n",
    "ax.scatter(t_hrs,sine_za,s=50,c=RM,alpha=0.4,vmin=0,vmax=3)\n",
    "\n",
    "plt.suptitle('RM (rad/m^2)')\n",
    "\n",
    "ax.set_xlim(min(t_hrs), max(t_hrs))\n",
    "ax.set_ylim(-1,1)\n",
    "ax.set_ylabel('sine(ZA)')\n",
    "ax.set_xlabel('hours since start')"
   ]
  },
  {
   "cell_type": "code",
   "execution_count": null,
   "id": "a8fbf321",
   "metadata": {},
   "outputs": [],
   "source": []
  }
 ],
 "metadata": {
  "kernelspec": {
   "display_name": "Python 3 (ipykernel)",
   "language": "python",
   "name": "python3"
  },
  "language_info": {
   "codemirror_mode": {
    "name": "ipython",
    "version": 3
   },
   "file_extension": ".py",
   "mimetype": "text/x-python",
   "name": "python",
   "nbconvert_exporter": "python",
   "pygments_lexer": "ipython3",
   "version": "3.8.12"
  }
 },
 "nbformat": 4,
 "nbformat_minor": 5
}
